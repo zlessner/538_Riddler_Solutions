{
 "cells": [
  {
   "cell_type": "code",
   "execution_count": 1,
   "metadata": {},
   "outputs": [],
   "source": [
    "# Earlier today, James’s boss was surprised to find out that not only did no one\n",
    "# on their team have a birthday this week, but that nobody\n",
    "# was celebrating a birthday for the entire month.\n",
    "# With a total of 40 people on the team, the probability of this\n",
    "# happening seemed to be miniscule.\n",
    "\n",
    "# But was that really the case? What was the probability that none of\n",
    "# the 40 people had birthdays this month? (For the purpose of this riddle,assume\n",
    "# that a year consists of 12 equally long months. It’s a sufficiently good approximation!)"
   ]
  },
  {
   "cell_type": "code",
   "execution_count": 5,
   "metadata": {},
   "outputs": [
    {
     "data": {
      "text/plain": [
       "0.030793394398501393"
      ]
     },
     "execution_count": 5,
     "metadata": {},
     "output_type": "execute_result"
    }
   ],
   "source": [
    "# probability of everyone having birthdays in 11 other months\n",
    "\n",
    "(11/12)**40"
   ]
  },
  {
   "cell_type": "code",
   "execution_count": null,
   "metadata": {},
   "outputs": [],
   "source": []
  }
 ],
 "metadata": {
  "kernelspec": {
   "display_name": "Python 3",
   "language": "python",
   "name": "python3"
  },
  "language_info": {
   "codemirror_mode": {
    "name": "ipython",
    "version": 3
   },
   "file_extension": ".py",
   "mimetype": "text/x-python",
   "name": "python",
   "nbconvert_exporter": "python",
   "pygments_lexer": "ipython3",
   "version": "3.7.4"
  }
 },
 "nbformat": 4,
 "nbformat_minor": 2
}
