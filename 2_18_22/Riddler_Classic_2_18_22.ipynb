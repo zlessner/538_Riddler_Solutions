{
 "cells": [
  {
   "cell_type": "code",
   "execution_count": null,
   "metadata": {},
   "outputs": [],
   "source": [
    "# I first flip all 1 million coins simultaneously\n",
    "# (I’m great at multitasking like that), discarding any coins that come up tails. \n",
    "# I flip all the coins that come up heads a second time,\n",
    "# and I again discard any of these coins that come up tails. I repeat this process,\n",
    "# over and over again. If at any point I am left with one coin,\n",
    "# I declare that to be the “luckiest” coin.\n",
    "\n",
    "# But getting to one coin is no sure thing. For example, I might find myself with two coins,\n",
    "# flip both of them and have both come up tails. \n",
    "# Then I would have zero coins, never having had exactly one coin.\n",
    "\n",
    "# What is the probability that I will — at some point — have exactly one “luckiest” coin?\n",
    "\n",
    "# https://fivethirtyeight.com/features/can-you-find-the-luckiest-coin/"
   ]
  },
  {
   "cell_type": "code",
   "execution_count": 100,
   "metadata": {},
   "outputs": [
    {
     "name": "stdout",
     "output_type": "stream",
     "text": [
      "7213329\n",
      "2786671\n",
      "0.7213329\n"
     ]
    }
   ],
   "source": [
    "import random\n",
    "\n",
    "lucky_coins = 0\n",
    "\n",
    "unlucky_coins = 0\n",
    "\n",
    "\n",
    "# run simulation 10 million times\n",
    "for x in range(10000000):\n",
    "    \n",
    "    # can start with lower amount of coins than 1 million\n",
    "    # since chances of hitting 1 or 0 coins on first flip are minute\n",
    "    coins_left = 30\n",
    "\n",
    "    def flips():\n",
    "        global coins_left\n",
    "        global unlucky_coins\n",
    "        for i in range(coins_left):\n",
    "                # random number either 0 or 1 (heads or tails)\n",
    "                if random.randint(0,1) == 1:\n",
    "                    coins_left = coins_left - 1\n",
    "                    \n",
    "        # if there aren't exactly 1 coin left it counts as an unlucky coin\n",
    "        if coins_left == 0:\n",
    "            unlucky_coins +=1\n",
    "\n",
    "\n",
    "\n",
    "\n",
    "    while coins_left > 0:\n",
    "        # if exactly 1 coin left it is a lucky coin\n",
    "        if coins_left == 1:\n",
    "            lucky_coins += 1\n",
    "            break\n",
    "\n",
    "        else:\n",
    "            flips() \n",
    "\n",
    "\n",
    "\n",
    "        \n",
    "print(lucky_coins)\n",
    "print(unlucky_coins)\n",
    "\n",
    "# divide lucky coins by total coins\n",
    "print(lucky_coins/(lucky_coins+unlucky_coins))\n",
    "\n"
   ]
  },
  {
   "cell_type": "code",
   "execution_count": null,
   "metadata": {},
   "outputs": [],
   "source": []
  },
  {
   "cell_type": "code",
   "execution_count": null,
   "metadata": {},
   "outputs": [],
   "source": []
  }
 ],
 "metadata": {
  "kernelspec": {
   "display_name": "Python 3",
   "language": "python",
   "name": "python3"
  },
  "language_info": {
   "codemirror_mode": {
    "name": "ipython",
    "version": 3
   },
   "file_extension": ".py",
   "mimetype": "text/x-python",
   "name": "python",
   "nbconvert_exporter": "python",
   "pygments_lexer": "ipython3",
   "version": "3.7.4"
  }
 },
 "nbformat": 4,
 "nbformat_minor": 2
}
