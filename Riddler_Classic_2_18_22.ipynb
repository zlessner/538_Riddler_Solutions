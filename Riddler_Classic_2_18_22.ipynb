{
 "cells": [
  {
   "cell_type": "code",
   "execution_count": 67,
   "metadata": {},
   "outputs": [
    {
     "name": "stdout",
     "output_type": "stream",
     "text": [
      "16494410\n",
      "13505590\n",
      "0.45018633333333336\n"
     ]
    }
   ],
   "source": [
    "import random\n",
    "\n",
    "you_total = 0\n",
    "\n",
    "me_total = 0\n",
    "\n",
    "for i in range(30000000):\n",
    "    \n",
    "    num_you = random.random()\n",
    "\n",
    "    num_me = random.uniform(.1,.8)\n",
    "\n",
    "\n",
    "    if num_you < num_me:\n",
    "        me_total = me_total + 1\n",
    "\n",
    "    else:\n",
    "        you_total = you_total + 1\n",
    "\n",
    "\n",
    "print(you_total)\n",
    "\n",
    "print(me_total)\n",
    "\n",
    "print(me_total/(you_total+me_total))"
   ]
  },
  {
   "cell_type": "code",
   "execution_count": null,
   "metadata": {},
   "outputs": [],
   "source": [
    "0.44990995\n",
    "0.4498882\n",
    "0.4498347\n",
    "0.4500382333333333\n",
    "0.4500499"
   ]
  }
 ],
 "metadata": {
  "kernelspec": {
   "display_name": "Python 3",
   "language": "python",
   "name": "python3"
  },
  "language_info": {
   "codemirror_mode": {
    "name": "ipython",
    "version": 3
   },
   "file_extension": ".py",
   "mimetype": "text/x-python",
   "name": "python",
   "nbconvert_exporter": "python",
   "pygments_lexer": "ipython3",
   "version": "3.7.4"
  }
 },
 "nbformat": 4,
 "nbformat_minor": 2
}
