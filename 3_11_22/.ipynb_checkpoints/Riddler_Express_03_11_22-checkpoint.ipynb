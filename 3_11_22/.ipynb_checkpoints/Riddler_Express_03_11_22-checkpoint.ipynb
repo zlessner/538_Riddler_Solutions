{
 "cells": [
  {
   "cell_type": "code",
   "execution_count": null,
   "metadata": {},
   "outputs": [],
   "source": [
    "# According to James, there was a scavenger hunt this year to determine\n",
    "# which lucky individuals received tickets to the Duke’s home men’s\n",
    "# basketball game against rival North Carolina. \n",
    "# (Spoiler alert: Underdog North Carolina won the game.)\n",
    "\n",
    "# The original scavenger hunt had five tasks. For the purposes of this riddle,\n",
    "# let’s say it has three tasks. For each task, whoever finishes first gets 1 point,\n",
    "# whoever finishes second gets 2 points and so on. \n",
    "# Your score is the total number of points you earn across all three tasks,\n",
    "# and lower scores are better. Knowing how popular basketball is at Duke,\n",
    "# it’s safe to say that many people are participating.\n",
    "# But only the top-10 finishers in the scavenger hunt will get tickets.\n",
    "\n",
    "# Without knowing how anyone else did on the scavenger hunt,\n",
    "# what is the highest score that guarantees you are in the top 10?\n",
    "# (Being tied for 10th is acceptable.)"
   ]
  },
  {
   "cell_type": "code",
   "execution_count": null,
   "metadata": {},
   "outputs": [],
   "source": [
    "# highest possible 1st place is 4 points (1,1,2)      2,4,4   3,5,2   4,3,3  5,2,1\n",
    "\n",
    "# highest possible 2nd place is 6 points (1,2,3)  \n",
    "\n",
    "# highest possible 3rd place is 8 points (2,3,3)\n",
    "\n",
    "# highest possible 4th place is 10 points (1,1,8)\n",
    "\n",
    "n = 100\n",
    "\n",
    "sum_scores = []\n",
    "\n",
    "guarenteed_scores = [3,4,5,6,7,8,9,10,11,12]"
   ]
  },
  {
   "cell_type": "code",
   "execution_count": 3,
   "metadata": {},
   "outputs": [
    {
     "data": {
      "text/plain": [
       "30"
      ]
     },
     "execution_count": 3,
     "metadata": {},
     "output_type": "execute_result"
    }
   ],
   "source": [
    "10+10+10"
   ]
  },
  {
   "cell_type": "code",
   "execution_count": null,
   "metadata": {},
   "outputs": [],
   "source": []
  }
 ],
 "metadata": {
  "kernelspec": {
   "display_name": "Python 3",
   "language": "python",
   "name": "python3"
  },
  "language_info": {
   "codemirror_mode": {
    "name": "ipython",
    "version": 3
   },
   "file_extension": ".py",
   "mimetype": "text/x-python",
   "name": "python",
   "nbconvert_exporter": "python",
   "pygments_lexer": "ipython3",
   "version": "3.7.4"
  }
 },
 "nbformat": 4,
 "nbformat_minor": 2
}
