{
 "cells": [
  {
   "cell_type": "code",
   "execution_count": null,
   "metadata": {},
   "outputs": [],
   "source": [
    "# We’re playing a game where you have to pick four whole numbers.\n",
    "# Then I will roll four fair dice.\n",
    "# If any two of the dice add up to any one of the numbers you picked, then you win!\n",
    "# Otherwise, you lose.\n",
    "\n",
    "# For example, suppose you picked the numbers 2, 3, 4 and 12,\n",
    "# and the four dice came up 1, 2, 4 and 5.\n",
    "# Then you’d win, because two of the dice (1 and 2)\n",
    "# add up to at least one of the numbers you picked (3).\n",
    "\n",
    "# To maximize your chances of winning, which four numbers should you pick?\n",
    "# And what are your chances of winning?"
   ]
  },
  {
   "cell_type": "code",
   "execution_count": 220,
   "metadata": {},
   "outputs": [
    {
     "name": "stdout",
     "output_type": "stream",
     "text": [
      "[5, 8, 8, 7, 7, 10]\n",
      "0.975506\n"
     ]
    }
   ],
   "source": [
    "import random\n",
    "\n",
    "sample = 1000000\n",
    "\n",
    "intersection = 0\n",
    "\n",
    "\n",
    "for i in range(sample):\n",
    "\n",
    "    num_dice1 = random.randint(1,6)\n",
    "\n",
    "    num_dice2 = random.randint(1,6)\n",
    "\n",
    "    num_dice3 = random.randint(1,6)\n",
    "\n",
    "    num_dice4 = random.randint(1,6)\n",
    "\n",
    "    def sums(dice1, dice2):\n",
    "        global sum\n",
    "        sum = dice1 + dice2\n",
    "\n",
    "        return sum\n",
    "\n",
    "\n",
    "\n",
    "    sum_1 = sums(num_dice1, num_dice2)\n",
    "    sum_2 = sums(num_dice1, num_dice3)\n",
    "    sum_3 = sums(num_dice1, num_dice4)\n",
    "    sum_4 = sums(num_dice2, num_dice3)\n",
    "    sum_5 = sums(num_dice2, num_dice4)\n",
    "    sum_6 = sums(num_dice3, num_dice4)\n",
    "\n",
    "    dice_combos = [sum_1, sum_2 , sum_3, sum_4, sum_5, sum_6]\n",
    "\n",
    "    dice_combos\n",
    "\n",
    "    num_picks = [4,6,8,10]\n",
    "\n",
    "    intersection_set = set.intersection(set(dice_combos), set(num_picks)) \n",
    "    \n",
    "    if len(intersection_set) != 0:\n",
    "        intersection +=1\n",
    "           \n",
    "           \n",
    "print(dice_combos)\n",
    "print(intersection/sample)\n",
    "\n"
   ]
  },
  {
   "cell_type": "code",
   "execution_count": null,
   "metadata": {},
   "outputs": [],
   "source": []
  }
 ],
 "metadata": {
  "kernelspec": {
   "display_name": "Python 3",
   "language": "python",
   "name": "python3"
  },
  "language_info": {
   "codemirror_mode": {
    "name": "ipython",
    "version": 3
   },
   "file_extension": ".py",
   "mimetype": "text/x-python",
   "name": "python",
   "nbconvert_exporter": "python",
   "pygments_lexer": "ipython3",
   "version": "3.7.4"
  }
 },
 "nbformat": 4,
 "nbformat_minor": 2
}
